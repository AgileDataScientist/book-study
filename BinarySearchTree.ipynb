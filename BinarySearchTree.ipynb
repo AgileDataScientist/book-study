{
  "nbformat": 4,
  "nbformat_minor": 0,
  "metadata": {
    "colab": {
      "name": "BinarySearchTree.ipynb",
      "provenance": [],
      "authorship_tag": "ABX9TyOB+QTMfbsDFsHTdP4bdRR8",
      "include_colab_link": true
    },
    "kernelspec": {
      "name": "python3",
      "display_name": "Python 3"
    },
    "language_info": {
      "name": "python"
    }
  },
  "cells": [
    {
      "cell_type": "markdown",
      "metadata": {
        "id": "view-in-github",
        "colab_type": "text"
      },
      "source": [
        "<a href=\"https://colab.research.google.com/github/AgileDataScientist/book-study/blob/main/BinarySearchTree.ipynb\" target=\"_parent\"><img src=\"https://colab.research.google.com/assets/colab-badge.svg\" alt=\"Open In Colab\"/></a>"
      ]
    },
    {
      "cell_type": "code",
      "execution_count": 1,
      "metadata": {
        "id": "n_w5TsUSTajH"
      },
      "outputs": [],
      "source": [
        "class Node:\n",
        "\n",
        "  def __init__(self, data):\n",
        "    self.data = data\n",
        "    self.left = None\n",
        "    self.right = None\n",
        "    \n",
        "\n",
        "class BinarySearchTree:\n",
        "\n",
        "  def __init__(self):\n",
        "    self.root  = None\n",
        "    self.depth = 0\n",
        "  \n",
        "  def insert_node(self, data):\n",
        "\n",
        "    newNode = Node(data)\n",
        "\n",
        "    # if tree is empty, set root\n",
        "    if self.root is None:\n",
        "      self.root = newNode\n",
        "      self.depth += 1\n",
        "      print('ROOT => ', self.root, ' Data => ', self.root.data, ' Left => ', self.root.left, ' Right => ', self.root.right, ' Tree Depth => ', self.depth, '\\n')\n",
        "      print('CURRENT NODE.LEFT => ', self.root.left)\n",
        "      return self\n",
        "    else:\n",
        "      currentNode = self.root\n",
        "      while True:\n",
        "        if data < currentNode.data:\n",
        "          if currentNode.left is None:\n",
        "            currentNode.left = newNode\n",
        "            self.depth += 1\n",
        "            print('SELF.LEFT => ', self.root, ' Left => ', self.root.left.data, ' Right => ', self.root.right, ' Tree Depth => ', self.depth, '\\n')\n",
        "            print('CURRENT NODE.LEFT => ', self.root.left)\n",
        "            return self\n",
        "          currentNode = currentNode.left \n",
        "          print('CURRENT NODE.LEFT => ', currentNode.left)\n",
        "        #elif data > currentNode.data:\n",
        "        elif data > currentNode.data:\n",
        "          if currentNode.right is None:\n",
        "            currentNode.right = newNode\n",
        "            self.depth += 1\n",
        "            print('SELF.RIGHT => ', self.root.right, ' Left => ', self.root.left, ' Right => ', self.root.right, ' Tree Depth => ', self.depth, '\\n')\n",
        "            return self\n",
        "          currentNode = currentNode.right\n",
        "          print('CURRENT NODE.RIGHT => ', self.root.data, '\\n')\n",
        "        \n",
        "\n",
        "  def PrintTreeStructure(self):\n",
        "    if self.left:\n",
        "      self.left.PrintTreeStructure()\n",
        "    print(self.data)\n",
        "    if self.right:\n",
        "      self.right.PrintTreeStructure()"
      ]
    }
  ]
}